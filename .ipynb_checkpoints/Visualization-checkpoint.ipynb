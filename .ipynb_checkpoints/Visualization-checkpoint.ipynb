{
 "cells": [
  {
   "cell_type": "code",
   "execution_count": 2,
   "metadata": {},
   "outputs": [
    {
     "name": "stdout",
     "output_type": "stream",
     "text": [
      "Setup Complete\n"
     ]
    }
   ],
   "source": [
    "import os\n",
    "import pandas as pd\n",
    "import numpy as np\n",
    "pd.plotting.register_matplotlib_converters()\n",
    "import matplotlib.pyplot as plt\n",
    "%matplotlib inline\n",
    "import seaborn as sns\n",
    "print(\"Setup Complete\")"
   ]
  },
  {
   "cell_type": "markdown",
   "metadata": {},
   "source": [
    "Now let's get directory tree"
   ]
  },
  {
   "cell_type": "code",
   "execution_count": 11,
   "metadata": {},
   "outputs": [
    {
     "name": "stdout",
     "output_type": "stream",
     "text": [
      "['rho_0.500', 'rho_0.550', 'rho_0.600', 'rho_0.650', 'rho_0.700', 'rho_0.750', 'rho_0.800', 'rho_0.850', 'rho_0.900']\n",
      "['T_0.100', 'T_0.150', 'T_0.200', 'T_0.250', 'T_0.300', 'T_0.350', 'T_0.400', 'T_0.450', 'T_0.500', 'T_0.550', 'T_0.600', 'T_0.650', 'T_0.700', 'T_0.750', 'T_0.800', 'T_0.850', 'T_0.900']\n"
     ]
    }
   ],
   "source": [
    "density_labels = [d for d in os.listdir('data_cellcount_5') if os.path.isdir(os.path.join('data_cellcount_5', d))]\n",
    "print(density_labels)\n",
    "\n",
    "temperature_labels = [t for t in os.listdir(os.path.join('data_cellcount_5', density_labels[0]))\n",
    "                      if os.path.isdir(os.path.join('data_cellcount_5', density_labels[0], t))]\n",
    "print(temperature_labels)"
   ]
  },
  {
   "cell_type": "markdown",
   "metadata": {},
   "source": [
    "And load the files"
   ]
  },
  {
   "cell_type": "code",
   "execution_count": 16,
   "metadata": {},
   "outputs": [],
   "source": [
    "thermo_meas_data = pd.read_csv('data_cellcount_5/thermo_measurements.csv')\n",
    "\n",
    "final_state_data = {d : {} for d in density_labels}\n",
    "summary_info_data = {d : {} for d in density_labels}\n",
    "time_series_data = {d : {} for d in density_labels}\n",
    "\n",
    "for d in density_labels:\n",
    "    for t in temperature_labels:\n",
    "        final_state_data[d][t] = pd.read_csv(os.path.join('data_cellcount_5', d, t, 'final_state.csv'))\n",
    "        summary_info_data[d][t] = pd.read_csv(os.path.join('data_cellcount_5', d, t, 'summary_info.csv'))\n",
    "        time_series_data[d][t] = pd.read_csv(os.path.join('data_cellcount_5', d, t, 'time_series.csv'),\n",
    "                                            index_col='TimeStep')"
   ]
  },
  {
   "cell_type": "code",
   "execution_count": 17,
   "metadata": {},
   "outputs": [
    {
     "data": {
      "text/html": [
       "<div>\n",
       "<style scoped>\n",
       "    .dataframe tbody tr th:only-of-type {\n",
       "        vertical-align: middle;\n",
       "    }\n",
       "\n",
       "    .dataframe tbody tr th {\n",
       "        vertical-align: top;\n",
       "    }\n",
       "\n",
       "    .dataframe thead th {\n",
       "        text-align: right;\n",
       "    }\n",
       "</style>\n",
       "<table border=\"1\" class=\"dataframe\">\n",
       "  <thead>\n",
       "    <tr style=\"text-align: right;\">\n",
       "      <th></th>\n",
       "      <th>Temp</th>\n",
       "      <th>PotEnergy</th>\n",
       "      <th>TotEnergy</th>\n",
       "      <th>MeanSqDisp</th>\n",
       "    </tr>\n",
       "    <tr>\n",
       "      <th>TimeStep</th>\n",
       "      <th></th>\n",
       "      <th></th>\n",
       "      <th></th>\n",
       "      <th></th>\n",
       "    </tr>\n",
       "  </thead>\n",
       "  <tbody>\n",
       "    <tr>\n",
       "      <th>0</th>\n",
       "      <td>0.800312</td>\n",
       "      <td>-0.006018</td>\n",
       "      <td>-0.003617</td>\n",
       "      <td>0.007746</td>\n",
       "    </tr>\n",
       "    <tr>\n",
       "      <th>1</th>\n",
       "      <td>0.801247</td>\n",
       "      <td>-0.006020</td>\n",
       "      <td>-0.003617</td>\n",
       "      <td>0.015495</td>\n",
       "    </tr>\n",
       "    <tr>\n",
       "      <th>2</th>\n",
       "      <td>0.802802</td>\n",
       "      <td>-0.006025</td>\n",
       "      <td>-0.003616</td>\n",
       "      <td>0.023250</td>\n",
       "    </tr>\n",
       "    <tr>\n",
       "      <th>3</th>\n",
       "      <td>0.804971</td>\n",
       "      <td>-0.006031</td>\n",
       "      <td>-0.003616</td>\n",
       "      <td>0.031014</td>\n",
       "    </tr>\n",
       "    <tr>\n",
       "      <th>4</th>\n",
       "      <td>0.807743</td>\n",
       "      <td>-0.006040</td>\n",
       "      <td>-0.003617</td>\n",
       "      <td>0.038790</td>\n",
       "    </tr>\n",
       "  </tbody>\n",
       "</table>\n",
       "</div>"
      ],
      "text/plain": [
       "              Temp  PotEnergy  TotEnergy  MeanSqDisp\n",
       "TimeStep                                            \n",
       "0         0.800312  -0.006018  -0.003617    0.007746\n",
       "1         0.801247  -0.006020  -0.003617    0.015495\n",
       "2         0.802802  -0.006025  -0.003616    0.023250\n",
       "3         0.804971  -0.006031  -0.003616    0.031014\n",
       "4         0.807743  -0.006040  -0.003617    0.038790"
      ]
     },
     "execution_count": 17,
     "metadata": {},
     "output_type": "execute_result"
    }
   ],
   "source": [
    "time_series_data['rho_0.500']['T_0.800'].head()"
   ]
  },
  {
   "cell_type": "code",
   "execution_count": null,
   "metadata": {},
   "outputs": [],
   "source": []
  }
 ],
 "metadata": {
  "kernelspec": {
   "display_name": "Python 3",
   "language": "python",
   "name": "python3"
  },
  "language_info": {
   "codemirror_mode": {
    "name": "ipython",
    "version": 3
   },
   "file_extension": ".py",
   "mimetype": "text/x-python",
   "name": "python",
   "nbconvert_exporter": "python",
   "pygments_lexer": "ipython3",
   "version": "3.8.2"
  }
 },
 "nbformat": 4,
 "nbformat_minor": 4
}
